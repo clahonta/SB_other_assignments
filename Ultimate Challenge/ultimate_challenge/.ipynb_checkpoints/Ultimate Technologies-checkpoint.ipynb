{
 "cells": [
  {
   "cell_type": "code",
   "execution_count": 20,
   "id": "white-donor",
   "metadata": {},
   "outputs": [],
   "source": [
    "import numpy as np\n",
    "import pandas as pd\n",
    "import datetime as dt\n",
    "import matplotlib.pyplot as plt"
   ]
  },
  {
   "cell_type": "code",
   "execution_count": 2,
   "id": "frozen-colorado",
   "metadata": {},
   "outputs": [],
   "source": [
    "logins = pd.read_json('logins.json')\n",
    "data = pd.read_json('ultimate_data_challenge.json')"
   ]
  },
  {
   "cell_type": "code",
   "execution_count": 12,
   "id": "private-lloyd",
   "metadata": {},
   "outputs": [],
   "source": [
    "logins['login_time'] = pd.to_datetime(logins['login_time'], format='%d%b%Y:%H:%M:%S.%f') "
   ]
  },
  {
   "cell_type": "code",
   "execution_count": 18,
   "id": "younger-appreciation",
   "metadata": {},
   "outputs": [
    {
     "data": {
      "text/html": [
       "<div>\n",
       "<style scoped>\n",
       "    .dataframe tbody tr th:only-of-type {\n",
       "        vertical-align: middle;\n",
       "    }\n",
       "\n",
       "    .dataframe tbody tr th {\n",
       "        vertical-align: top;\n",
       "    }\n",
       "\n",
       "    .dataframe thead th {\n",
       "        text-align: right;\n",
       "    }\n",
       "</style>\n",
       "<table border=\"1\" class=\"dataframe\">\n",
       "  <thead>\n",
       "    <tr style=\"text-align: right;\">\n",
       "      <th></th>\n",
       "      <th>login_time</th>\n",
       "      <th>month</th>\n",
       "      <th>day</th>\n",
       "      <th>hour</th>\n",
       "      <th>minute</th>\n",
       "    </tr>\n",
       "  </thead>\n",
       "  <tbody>\n",
       "    <tr>\n",
       "      <th>0</th>\n",
       "      <td>1970-01-01 20:13:18</td>\n",
       "      <td>1</td>\n",
       "      <td>1</td>\n",
       "      <td>20</td>\n",
       "      <td>13</td>\n",
       "    </tr>\n",
       "    <tr>\n",
       "      <th>1</th>\n",
       "      <td>1970-01-01 20:16:10</td>\n",
       "      <td>1</td>\n",
       "      <td>1</td>\n",
       "      <td>20</td>\n",
       "      <td>16</td>\n",
       "    </tr>\n",
       "    <tr>\n",
       "      <th>2</th>\n",
       "      <td>1970-01-01 20:16:37</td>\n",
       "      <td>1</td>\n",
       "      <td>1</td>\n",
       "      <td>20</td>\n",
       "      <td>16</td>\n",
       "    </tr>\n",
       "    <tr>\n",
       "      <th>3</th>\n",
       "      <td>1970-01-01 20:16:36</td>\n",
       "      <td>1</td>\n",
       "      <td>1</td>\n",
       "      <td>20</td>\n",
       "      <td>16</td>\n",
       "    </tr>\n",
       "    <tr>\n",
       "      <th>4</th>\n",
       "      <td>1970-01-01 20:26:21</td>\n",
       "      <td>1</td>\n",
       "      <td>1</td>\n",
       "      <td>20</td>\n",
       "      <td>26</td>\n",
       "    </tr>\n",
       "    <tr>\n",
       "      <th>...</th>\n",
       "      <td>...</td>\n",
       "      <td>...</td>\n",
       "      <td>...</td>\n",
       "      <td>...</td>\n",
       "      <td>...</td>\n",
       "    </tr>\n",
       "    <tr>\n",
       "      <th>93137</th>\n",
       "      <td>1970-04-13 18:50:19</td>\n",
       "      <td>4</td>\n",
       "      <td>13</td>\n",
       "      <td>18</td>\n",
       "      <td>50</td>\n",
       "    </tr>\n",
       "    <tr>\n",
       "      <th>93138</th>\n",
       "      <td>1970-04-13 18:43:56</td>\n",
       "      <td>4</td>\n",
       "      <td>13</td>\n",
       "      <td>18</td>\n",
       "      <td>43</td>\n",
       "    </tr>\n",
       "    <tr>\n",
       "      <th>93139</th>\n",
       "      <td>1970-04-13 18:54:02</td>\n",
       "      <td>4</td>\n",
       "      <td>13</td>\n",
       "      <td>18</td>\n",
       "      <td>54</td>\n",
       "    </tr>\n",
       "    <tr>\n",
       "      <th>93140</th>\n",
       "      <td>1970-04-13 18:57:38</td>\n",
       "      <td>4</td>\n",
       "      <td>13</td>\n",
       "      <td>18</td>\n",
       "      <td>57</td>\n",
       "    </tr>\n",
       "    <tr>\n",
       "      <th>93141</th>\n",
       "      <td>1970-04-13 18:54:23</td>\n",
       "      <td>4</td>\n",
       "      <td>13</td>\n",
       "      <td>18</td>\n",
       "      <td>54</td>\n",
       "    </tr>\n",
       "  </tbody>\n",
       "</table>\n",
       "<p>93142 rows × 5 columns</p>\n",
       "</div>"
      ],
      "text/plain": [
       "               login_time  month  day  hour  minute\n",
       "0     1970-01-01 20:13:18      1    1    20      13\n",
       "1     1970-01-01 20:16:10      1    1    20      16\n",
       "2     1970-01-01 20:16:37      1    1    20      16\n",
       "3     1970-01-01 20:16:36      1    1    20      16\n",
       "4     1970-01-01 20:26:21      1    1    20      26\n",
       "...                   ...    ...  ...   ...     ...\n",
       "93137 1970-04-13 18:50:19      4   13    18      50\n",
       "93138 1970-04-13 18:43:56      4   13    18      43\n",
       "93139 1970-04-13 18:54:02      4   13    18      54\n",
       "93140 1970-04-13 18:57:38      4   13    18      57\n",
       "93141 1970-04-13 18:54:23      4   13    18      54\n",
       "\n",
       "[93142 rows x 5 columns]"
      ]
     },
     "execution_count": 18,
     "metadata": {},
     "output_type": "execute_result"
    }
   ],
   "source": [
    "logins['month'] = logins['login_time'].dt.month\n",
    "logins['day'] = logins['login_time'].dt.day\n",
    "logins['hour'] = logins['login_time'].dt.hour\n",
    "logins['minute'] = logins['login_time'].dt.minute\n",
    "logins"
   ]
  },
  {
   "cell_type": "code",
   "execution_count": 22,
   "id": "alternative-terminal",
   "metadata": {},
   "outputs": [
    {
     "data": {
      "text/plain": [
       "[<matplotlib.lines.Line2D at 0x14823c1d0a0>]"
      ]
     },
     "execution_count": 22,
     "metadata": {},
     "output_type": "execute_result"
    },
    {
     "data": {
      "image/png": "[encoded data removed]",
      "text/plain": [
       "<Figure size 432x288 with 1 Axes>"
      ]
     },
     "metadata": {
      "needs_background": "light"
     },
     "output_type": "display_data"
    }
   ],
   "source": [
    "plt.plot(logins['login_time'], logins['login_time'])"
   ]
  },
  {
   "cell_type": "code",
   "execution_count": null,
   "id": "looking-renaissance",
   "metadata": {},
   "outputs": [],
   "source": []
  }
 ],
 "metadata": {
  "kernelspec": {
   "display_name": "Python 3",
   "language": "python",
   "name": "python3"
  },
  "language_info": {
   "codemirror_mode": {
    "name": "ipython",
    "version": 3
   },
   "file_extension": ".py",
   "mimetype": "text/x-python",
   "name": "python",
   "nbconvert_exporter": "python",
   "pygments_lexer": "ipython3",
   "version": "3.8.8"
  }
 },
 "nbformat": 4,
 "nbformat_minor": 5
}
